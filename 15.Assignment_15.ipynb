{
 "cells": [
  {
   "cell_type": "code",
   "execution_count": 1,
   "id": "7dd6ea36",
   "metadata": {},
   "outputs": [
    {
     "name": "stdout",
     "output_type": "stream",
     "text": [
      "3600\n"
     ]
    }
   ],
   "source": [
    "'''1.How many seconds are in an hour? Use the interactive interpreter as a  \n",
    "calculator and multiply the number of seconds in a minute (60) \n",
    "by the number of minutes in an hour (also 60).'''\n",
    "\n",
    "print(60*60)"
   ]
  },
  {
   "cell_type": "code",
   "execution_count": 2,
   "id": "4c851b83",
   "metadata": {},
   "outputs": [
    {
     "name": "stdout",
     "output_type": "stream",
     "text": [
      "3600\n"
     ]
    }
   ],
   "source": [
    "'''2. Assign the result from the previous task \n",
    "(seconds in an hour) to a variable called seconds_per_hour.'''\n",
    "\n",
    "seconds_per_hour=60*60\n",
    "print(seconds_per_hour)"
   ]
  },
  {
   "cell_type": "code",
   "execution_count": 7,
   "id": "5158c061",
   "metadata": {},
   "outputs": [
    {
     "name": "stdout",
     "output_type": "stream",
     "text": [
      "86400\n"
     ]
    }
   ],
   "source": [
    "'''3. How many seconds do you think there are in a day? \n",
    "Make use of the variables seconds per hour and minutes per hour.'''\n",
    "\n",
    "minutes_per_hour=24\n",
    "\n",
    "print(seconds_per_hour*minutes_per_hour)"
   ]
  },
  {
   "cell_type": "code",
   "execution_count": 8,
   "id": "bc3df5a5",
   "metadata": {},
   "outputs": [
    {
     "name": "stdout",
     "output_type": "stream",
     "text": [
      "86400\n"
     ]
    }
   ],
   "source": [
    "'''4. Calculate seconds per day again, but this time \n",
    "save the result in a variable called seconds_per_day'''\n",
    "\n",
    "seconds_per_day=60*60*24\n",
    "print(seconds_per_day)"
   ]
  },
  {
   "cell_type": "code",
   "execution_count": 9,
   "id": "b6c925d8",
   "metadata": {},
   "outputs": [
    {
     "name": "stdout",
     "output_type": "stream",
     "text": [
      "24.0\n"
     ]
    }
   ],
   "source": [
    "'''5. Divide seconds_per_day by seconds_per_hour.\n",
    "Use floating-point (/) division.'''\n",
    "\n",
    "print(seconds_per_day/seconds_per_hour)"
   ]
  },
  {
   "cell_type": "code",
   "execution_count": 12,
   "id": "644cdd39",
   "metadata": {},
   "outputs": [
    {
     "name": "stdout",
     "output_type": "stream",
     "text": [
      "24\n"
     ]
    }
   ],
   "source": [
    "'''6. Divide seconds_per_day by seconds_per_hour, using integer (//) division. \n",
    "Did this number agree with the floating-point value from the \n",
    "previous question, aside from the final .0?\n",
    "'''\n",
    "\n",
    "print(seconds_per_day//seconds_per_hour)\n"
   ]
  },
  {
   "cell_type": "code",
   "execution_count": 14,
   "id": "bbd97916",
   "metadata": {},
   "outputs": [
    {
     "name": "stdout",
     "output_type": "stream",
     "text": [
      "1\n",
      "2\n",
      "3\n",
      "5\n",
      "7\n",
      "11\n",
      "13\n",
      "17\n",
      "19\n",
      "23\n"
     ]
    }
   ],
   "source": [
    "'''7. Write a generator, genPrimes,  \n",
    "that returns the sequence of prime numbers on successive calls \n",
    "to its next() method: 2, 3, 5, 7, 11, ...'''\n",
    "\n",
    "def genprimes():\n",
    "    n=0\n",
    "    while True:\n",
    "        if n == 2 or n == 3:\n",
    "            yield n\n",
    "        elif( (n-1)%6==0 or (n+1)%6==0 and n!=1 ):\n",
    "            yield n\n",
    "        n=n+1\n",
    "        \n",
    "output = genprimes()\n",
    "for i in range(10):\n",
    "    print(next(output))"
   ]
  },
  {
   "cell_type": "code",
   "execution_count": null,
   "id": "60363e7d",
   "metadata": {},
   "outputs": [],
   "source": []
  }
 ],
 "metadata": {
  "kernelspec": {
   "display_name": "Python 3 (ipykernel)",
   "language": "python",
   "name": "python3"
  },
  "language_info": {
   "codemirror_mode": {
    "name": "ipython",
    "version": 3
   },
   "file_extension": ".py",
   "mimetype": "text/x-python",
   "name": "python",
   "nbconvert_exporter": "python",
   "pygments_lexer": "ipython3",
   "version": "3.9.12"
  }
 },
 "nbformat": 4,
 "nbformat_minor": 5
}
