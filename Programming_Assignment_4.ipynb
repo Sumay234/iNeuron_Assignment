{
 "cells": [
  {
   "cell_type": "code",
   "execution_count": 6,
   "id": "542ff7aa",
   "metadata": {},
   "outputs": [
    {
     "name": "stdout",
     "output_type": "stream",
     "text": [
      "Enter the number:- 3\n",
      "The factorial of  3 is  6\n"
     ]
    }
   ],
   "source": [
    "'''1. Write a Python Program to Find the Factorial of a Number?'''\n",
    "\n",
    "num=int(input(\"Enter the number:- \"))\n",
    "\n",
    "def factorial(num):\n",
    "    factorial = 1\n",
    "    if num < 0:\n",
    "        print(\"Sorry, factorial is a negative number\")\n",
    "    elif num == 0:\n",
    "        print(\"The factorial of 0 is 1\")\n",
    "    else:\n",
    "        for i in range(1,num+1):\n",
    "            factorial=factorial*i\n",
    "        print(\"The factorial of \",num,\"is \",factorial)\n",
    "        \n",
    "factorial(num)"
   ]
  },
  {
   "cell_type": "code",
   "execution_count": 12,
   "id": "f421f979",
   "metadata": {},
   "outputs": [
    {
     "name": "stdout",
     "output_type": "stream",
     "text": [
      "3 x 1 = 3\n",
      "3 x 2 = 6\n",
      "3 x 3 = 9\n",
      "3 x 4 = 12\n",
      "3 x 5 = 15\n",
      "3 x 6 = 18\n",
      "3 x 7 = 21\n",
      "3 x 8 = 24\n",
      "3 x 9 = 27\n",
      "3 x 10 = 30\n"
     ]
    }
   ],
   "source": [
    "'''2. Write a Python Program to Display the multiplication Table?'''\n",
    "\n",
    "for i in range(1,11):\n",
    "    print(\"3 x\",i,\"=\",3*i)"
   ]
  },
  {
   "cell_type": "code",
   "execution_count": 18,
   "id": "c2873b49",
   "metadata": {},
   "outputs": [
    {
     "name": "stdout",
     "output_type": "stream",
     "text": [
      "Display multiplication table of: 4\n",
      "4 x 1 = 4\n",
      "4 x 2 = 8\n",
      "4 x 3 = 12\n",
      "4 x 4 = 16\n",
      "4 x 5 = 20\n",
      "4 x 6 = 24\n",
      "4 x 7 = 28\n",
      "4 x 8 = 32\n",
      "4 x 9 = 36\n",
      "4 x 10 = 40\n"
     ]
    }
   ],
   "source": [
    "def multiplication_table(num):\n",
    "    for i in range(1, 11):\n",
    "       print(num, 'x', i, '=', num*i)\n",
    "number = int(input(\"Display multiplication table of: \"))\n",
    "multiplication_table(number)"
   ]
  },
  {
   "cell_type": "code",
   "execution_count": 22,
   "id": "1c51e802",
   "metadata": {},
   "outputs": [
    {
     "name": "stdout",
     "output_type": "stream",
     "text": [
      "How many terms: 4\n",
      "Fibonacci sequence:\n",
      "0\n",
      "1\n",
      "1\n",
      "2\n"
     ]
    }
   ],
   "source": [
    "'''3. Write a Python Program to Print the Fibonacci sequence?'''\n",
    "\n",
    "def fibonacci(nterms):\n",
    "    n1,n2=0,1\n",
    "    count = 0\n",
    "    if nterms <=0:\n",
    "        print(\"Please enter a positive number\")\n",
    "    elif nterms == 1:\n",
    "        print(\"Fibonacci sequence upto\", nterms,\":\")\n",
    "        print(n1)\n",
    "    else:\n",
    "        print(\"Fibonacci sequence:\")\n",
    "        while count < nterms:\n",
    "            print(n1)\n",
    "            nth =n1+n2\n",
    "            \n",
    "            n1=n2\n",
    "            n2=nth\n",
    "            count += 1\n",
    "            \n",
    "nterms=int(input(\"How many terms: \"))      \n",
    "fibonacci(nterms)"
   ]
  },
  {
   "cell_type": "code",
   "execution_count": 29,
   "id": "9af5e560",
   "metadata": {},
   "outputs": [
    {
     "name": "stdout",
     "output_type": "stream",
     "text": [
      "Enter a number: 78\n",
      "78 is not an Armstrong number\n"
     ]
    }
   ],
   "source": [
    "'''4. Write a Python Program to Check Armstrong Number?'''\n",
    "\n",
    "\n",
    "def armstrong(num):\n",
    "    order = len(str(num))\n",
    "    sum = 0\n",
    "    temp = num\n",
    "    while temp > 0:\n",
    "        digit = temp % 10\n",
    "        sum += digit ** order\n",
    "        temp //= 10\n",
    "\n",
    "\n",
    "    if num == sum:\n",
    "       print(num,\"is an Armstrong number\")\n",
    "    else:\n",
    "       print(num,\"is not an Armstrong number\")\n",
    "    \n",
    "num = int(input(\"Enter a number: \"))\n",
    "armstrong(num)\n",
    "\n"
   ]
  },
  {
   "cell_type": "code",
   "execution_count": 30,
   "id": "27f43ae0",
   "metadata": {},
   "outputs": [
    {
     "name": "stdout",
     "output_type": "stream",
     "text": [
      "Enter a lower range number: 4\n",
      "Enter an upper range number: 5\n",
      "Armstrong numbers between 4 and 5 are:\n",
      "4\n",
      "5\n"
     ]
    }
   ],
   "source": [
    "'''5. Write a Python Program to Find Armstrong Number in an Interval?'''\n",
    "\n",
    "def armstrong_interval(lower,upper):\n",
    "    print(\"Armstrong numbers between\", lower, \"and\", upper, \"are:\")\n",
    "    for num in range(lower, upper + 1):\n",
    "        order = len(str(num))\n",
    "        sum = 0\n",
    "        temp = num\n",
    "        while temp > 0:\n",
    "            digit = temp % 10\n",
    "            sum += digit ** order\n",
    "            temp //= 10\n",
    "\n",
    "        if num == sum:\n",
    "           print(num)\n",
    "lower_number = int(input(\"Enter a lower range number: \"))\n",
    "upper_number = int(input(\"Enter an upper range number: \"))\n",
    "armstrong_interval(lower_number,upper_number)\n",
    "\n"
   ]
  },
  {
   "cell_type": "code",
   "execution_count": 31,
   "id": "68226ffe",
   "metadata": {},
   "outputs": [
    {
     "name": "stdout",
     "output_type": "stream",
     "text": [
      "Enter a number: 4\n",
      "The sum is 10\n"
     ]
    }
   ],
   "source": [
    "'''6. Write a Python Program to Find the Sum of Natural Numbers?'''\n",
    "\n",
    "\n",
    "def natural_sum(num):\n",
    "    if num < 0:\n",
    "       print(\"Enter a positive number\")\n",
    "    else:\n",
    "       sum = 0\n",
    "   # use while loop to iterate until zero\n",
    "       while(num > 0):\n",
    "           sum += num\n",
    "           num -= 1\n",
    "       print(\"The sum is\", sum)\n",
    "num = int(input(\"Enter a number: \"))\n",
    "natural_sum(num)\n"
   ]
  },
  {
   "cell_type": "code",
   "execution_count": null,
   "id": "dcfe9a12",
   "metadata": {},
   "outputs": [],
   "source": []
  }
 ],
 "metadata": {
  "kernelspec": {
   "display_name": "Python 3 (ipykernel)",
   "language": "python",
   "name": "python3"
  },
  "language_info": {
   "codemirror_mode": {
    "name": "ipython",
    "version": 3
   },
   "file_extension": ".py",
   "mimetype": "text/x-python",
   "name": "python",
   "nbconvert_exporter": "python",
   "pygments_lexer": "ipython3",
   "version": "3.9.12"
  }
 },
 "nbformat": 4,
 "nbformat_minor": 5
}
