{
  "nbformat": 4,
  "nbformat_minor": 0,
  "metadata": {
    "colab": {
      "provenance": []
    },
    "kernelspec": {
      "name": "python3",
      "display_name": "Python 3"
    },
    "language_info": {
      "name": "python"
    }
  },
  "cells": [
    {
      "cell_type": "markdown",
      "source": [
        "1. What exactly is []?\n",
        "\n",
        "ans) It is a square bracket. Mainly uses in list."
      ],
      "metadata": {
        "id": "8BKG3OoH0LSD"
      }
    },
    {
      "cell_type": "markdown",
      "source": [
        "2. In a list of values stored in a variable called spam, how would you assign the value hello as the\n",
        "third value? (Assume [2, 4, 6, 8, 10] are in spam.)\n",
        "\n",
        "ans) simply i will code                                                                       \n",
        "             spam.insert(2,\"hello\")"
      ],
      "metadata": {
        "id": "ywFzt78a0LcY"
      }
    },
    {
      "cell_type": "code",
      "source": [
        " # For question no.2\n",
        "spam = [2, 4, 6, 8, 10]\n",
        "spam.insert(2,\"hello\")\n",
        "spam"
      ],
      "metadata": {
        "colab": {
          "base_uri": "https://localhost:8080/"
        },
        "id": "IiSz6AYD305q",
        "outputId": "908a431c-704d-4c3e-a222-51ea7da8ece3"
      },
      "execution_count": 33,
      "outputs": [
        {
          "output_type": "execute_result",
          "data": {
            "text/plain": [
              "[2, 4, 'hello', 6, 8, 10]"
            ]
          },
          "metadata": {},
          "execution_count": 33
        }
      ]
    },
    {
      "cell_type": "markdown",
      "source": [
        "**Lets pretend the spam includes the list [a,b,c,d] for the next three queries.**\n",
        "\n",
        "3. What is the value of spam[int(int('3' * 2) / 11)]?\n",
        "ans) d"
      ],
      "metadata": {
        "id": "HezYAXBP0LeT"
      }
    },
    {
      "cell_type": "code",
      "source": [
        "# For question no. 3\n",
        "\n",
        "spam=['a','b','c','d']\n",
        "spam[int(int('3'*2)/11)]"
      ],
      "metadata": {
        "colab": {
          "base_uri": "https://localhost:8080/",
          "height": 36
        },
        "id": "8nFq9Lo64W3n",
        "outputId": "afa82940-2e13-4624-e3bd-53ea372ba39a"
      },
      "execution_count": 9,
      "outputs": [
        {
          "output_type": "execute_result",
          "data": {
            "text/plain": [
              "'d'"
            ],
            "application/vnd.google.colaboratory.intrinsic+json": {
              "type": "string"
            }
          },
          "metadata": {},
          "execution_count": 9
        }
      ]
    },
    {
      "cell_type": "markdown",
      "source": [
        "4. What is the value of spam[-1]?\n",
        "\n",
        "ans) \"d\""
      ],
      "metadata": {
        "id": "Dc0ow7YN0Lgc"
      }
    },
    {
      "cell_type": "markdown",
      "source": [
        "5. What is the value of spam[:2]?\n",
        "\n",
        "ans) ['a', 'b']"
      ],
      "metadata": {
        "id": "r8mYrcpx0LiR"
      }
    },
    {
      "cell_type": "code",
      "source": [
        "# For question no.5\n",
        "\n",
        "spam[:2]"
      ],
      "metadata": {
        "colab": {
          "base_uri": "https://localhost:8080/"
        },
        "id": "o1da9BzE5IrJ",
        "outputId": "6c1ff696-e4c7-4d1b-b7d2-9b319b424692"
      },
      "execution_count": 11,
      "outputs": [
        {
          "output_type": "execute_result",
          "data": {
            "text/plain": [
              "['a', 'b']"
            ]
          },
          "metadata": {},
          "execution_count": 11
        }
      ]
    },
    {
      "cell_type": "markdown",
      "source": [
        "**Let's pretend bacon has the list [3.14, cat, 11, cat,True] for the next three questions.**\n",
        "\n",
        "6. What is the value of bacon.index('cat')?\n",
        "\n",
        "ans) 1"
      ],
      "metadata": {
        "id": "8INnY9C20Ljq"
      }
    },
    {
      "cell_type": "code",
      "source": [
        "# for question no. 6\n",
        "\n",
        "bacon=['3.14', 'cat', '11', 'cat','True']\n",
        "bacon.index('cat')"
      ],
      "metadata": {
        "colab": {
          "base_uri": "https://localhost:8080/"
        },
        "id": "CNaBfiAY5zwj",
        "outputId": "e5e6bfa0-b0d6-4c48-a3fe-221aae0d81e2"
      },
      "execution_count": 15,
      "outputs": [
        {
          "output_type": "execute_result",
          "data": {
            "text/plain": [
              "1"
            ]
          },
          "metadata": {},
          "execution_count": 15
        }
      ]
    },
    {
      "cell_type": "markdown",
      "source": [
        "7. How does bacon.append(99) change the look of the list value in bacon?\n",
        "\n",
        "ans) bacon=['3.14', 'cat', '11', 'cat','True','99']"
      ],
      "metadata": {
        "id": "YtBeGjuK0LnH"
      }
    },
    {
      "cell_type": "markdown",
      "source": [
        "8. How does bacon.remove(cat) change the look of the list in bacon?\n",
        "\n",
        "ans) it will remove the first \"cat\".     \n",
        "    ['3.14', '11', 'cat', 'True', 99]"
      ],
      "metadata": {
        "id": "rfDuh_rs0Lt8"
      }
    },
    {
      "cell_type": "markdown",
      "source": [
        "9. What are the list concatenation and list replication operators?\n",
        "\n",
        "ans) The operator for list concatenation is +, while the operator for replication is *."
      ],
      "metadata": {
        "id": "DC5ktcVt0Lvy"
      }
    },
    {
      "cell_type": "markdown",
      "source": [
        "10. What is difference between the list methods append() and insert()?\n",
        "\n",
        "ans.)  While append() will add values only to the end of a list, insert() can add them anywhere in the list."
      ],
      "metadata": {
        "id": "qHTiC3520Lx8"
      }
    },
    {
      "cell_type": "markdown",
      "source": [
        "11. What are the two methods for removing items from a list?\n",
        "\n",
        "ans) item.remove and   \n",
        "     item.del   \n",
        "     this are the two method for removing item."
      ],
      "metadata": {
        "id": "TxGPxx9g0Lz-"
      }
    },
    {
      "cell_type": "markdown",
      "source": [
        "12. Describe how list values and string values are identical.\n",
        "\n",
        "ans)  i can't give this answer by my own."
      ],
      "metadata": {
        "id": "vpwIMPKa0L1t"
      }
    },
    {
      "cell_type": "markdown",
      "source": [
        "13. What's the difference between tuples and lists?\n",
        "\n",
        "ans) Lists are mutable; they can have values added, removed, or changed. Tuples are immutable; they cannot be changed at all. Also, tuples are written using parentheses, ( and ), while lists use the square brackets, [ and ]."
      ],
      "metadata": {
        "id": "Qx5nqSoF0L32"
      }
    },
    {
      "cell_type": "markdown",
      "source": [
        "14. How do you type a tuple value that only contains the integer 42?\n",
        "\n",
        "ans) i can't give this answer by my own."
      ],
      "metadata": {
        "id": "6vB1mZ5h0L7X"
      }
    },
    {
      "cell_type": "markdown",
      "source": [
        "15. How do you get a list values tuple form? How do you get a tuple values list form?\n",
        "\n",
        "ans) i cant answer this question"
      ],
      "metadata": {
        "id": "k412lACL9nNc"
      }
    },
    {
      "cell_type": "markdown",
      "source": [
        "16. Variables that contain list values are not necessarily lists themselves. Instead, what do they\n",
        "contain?\n",
        "\n",
        "ans)They contain references to list values."
      ],
      "metadata": {
        "id": "je_7tW7D9nJ9"
      }
    },
    {
      "cell_type": "markdown",
      "source": [
        "17. How do you distinguish between copy.copy() and copy.deepcopy()?\n",
        "\n",
        "ans) The copy.copy() function will do a shallow copy of a list, while the copy.deepcopy() function will do a deep copy of a list. That is, only copy.deepcopy() will duplicate any lists inside the list."
      ],
      "metadata": {
        "id": "f77mNGBJ9nH_"
      }
    },
    {
      "cell_type": "markdown",
      "source": [],
      "metadata": {
        "id": "qjWxl30H0MNr"
      }
    }
  ]
}