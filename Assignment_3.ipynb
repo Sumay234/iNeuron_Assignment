{
  "nbformat": 4,
  "nbformat_minor": 0,
  "metadata": {
    "colab": {
      "provenance": []
    },
    "kernelspec": {
      "name": "python3",
      "display_name": "Python 3"
    },
    "language_info": {
      "name": "python"
    }
  },
  "cells": [
    {
      "cell_type": "code",
      "execution_count": null,
      "metadata": {
        "id": "ChWoYda0JNJJ"
      },
      "outputs": [],
      "source": []
    },
    {
      "cell_type": "markdown",
      "source": [
        "1. Why are functions advantageous to have in your programs?\n",
        "\n",
        "ans) The uses of function makes a programs more readable. Its hard to read a    large program so Function make it easy to read and eto understand also. "
      ],
      "metadata": {
        "id": "QLJerC7OJlVG"
      }
    },
    {
      "cell_type": "markdown",
      "source": [
        "2. When does the code in a function run: when its specified or when its called?\n",
        "\n",
        "ans) When a function is called the program \"leaves\" the current section of code and begins to excetude from the first line inside the function."
      ],
      "metadata": {
        "id": "meDYgQphJlrc"
      }
    },
    {
      "cell_type": "markdown",
      "source": [
        "3. What statement creates a function?\n",
        "\n",
        "ans) The def keyword is a statement in python to create a function.                                \n",
        "         def abc:     \n",
        "              abcd"
      ],
      "metadata": {
        "id": "tf-GMwcDJluY"
      }
    },
    {
      "cell_type": "markdown",
      "source": [
        "4. What is the difference between a function and a function call?\n",
        "\n",
        "ans) Function is a block of code in where we write a specific our program wherreas function call is when we excuted the code or function."
      ],
      "metadata": {
        "id": "nTzqmup4Jlw3"
      }
    },
    {
      "cell_type": "markdown",
      "source": [
        "5. How many global scopes are there in a Python program? How many local scopes?\n",
        "\n",
        "ans) Mainly there are only One global scope in python progran "
      ],
      "metadata": {
        "id": "1zTJogqYJlzy"
      }
    },
    {
      "cell_type": "markdown",
      "source": [
        "6. What happens to variables in a local scope when the function call returns?\n",
        "\n",
        "ans) it will be deleted or destroyed the function or the function call."
      ],
      "metadata": {
        "id": "uswgZ9DhJl2Q"
      }
    },
    {
      "cell_type": "markdown",
      "source": [
        "7. What is the concept of a return value? Is it possible to have a return value in an expression?\n",
        "\n",
        "ans) The value that a function returns to the caller is generally known as the function return value.      \n",
        "No it not possible to have a return value in an expression."
      ],
      "metadata": {
        "id": "IxSDQQ2WJl5O"
      }
    },
    {
      "cell_type": "markdown",
      "source": [
        "8. If a function does not have a return statement, what is the return value of a call to that function?\n",
        "\n",
        "ans) If a function does not have a return statement, than it will excetude to print value or in some case it will not give any output as per the code"
      ],
      "metadata": {
        "id": "zbJfsV3xJl7p"
      }
    },
    {
      "cell_type": "markdown",
      "source": [
        "9. How do you make a function variable refer to the global variable?\n",
        "\n",
        "ans) Normally, when we create a variable inside an function, that variable is local, and can only be used inside that function. To create a global variable inside a function, we can use the global keyword."
      ],
      "metadata": {
        "id": "e9EjN3_dJl-X"
      }
    },
    {
      "cell_type": "markdown",
      "source": [
        "10. What is the data type of None?\n",
        "\n",
        "ans)  The ans of this question can't be give."
      ],
      "metadata": {
        "id": "oGA-dwrtJmB0"
      }
    },
    {
      "cell_type": "markdown",
      "source": [
        "11. What does the sentence import areallyourpetsnamederic do?\n",
        "\n",
        "ans) That import statement imports a module named areallyourpetsnamederic."
      ],
      "metadata": {
        "id": "KJsUcn4VJmEf"
      }
    },
    {
      "cell_type": "markdown",
      "source": [
        "12. If you had a bacon() feature in a spam module, what would you call it after importing spam?\n",
        "\n",
        "ans)  i can't ans by my own"
      ],
      "metadata": {
        "id": "aBipi5M-JmHe"
      }
    },
    {
      "cell_type": "markdown",
      "source": [
        "13. What can you do to save a programme from crashing if it encounters an error?\n",
        "\n",
        "ans) change the code or simply we can check the error one and try to do correct ."
      ],
      "metadata": {
        "id": "h3h-jMSMJmKj"
      }
    },
    {
      "cell_type": "markdown",
      "source": [
        "14. What is the purpose of the try clause? What is the purpose of the except clause?\n",
        "\n",
        "ans)The code that could potentially cause an error goes in the try clause.   \n",
        "-The code that executes if an error happens goes in the except clause."
      ],
      "metadata": {
        "id": "knsFI8mFTFHM"
      }
    },
    {
      "cell_type": "code",
      "source": [],
      "metadata": {
        "id": "526-JuWGTOTM"
      },
      "execution_count": null,
      "outputs": []
    }
  ]
}