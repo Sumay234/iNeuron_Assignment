{
 "cells": [
  {
   "cell_type": "code",
   "execution_count": 15,
   "id": "b1bd41d2",
   "metadata": {},
   "outputs": [
    {
     "data": {
      "text/plain": [
       "[1999, 2000, 2001, 2002, 2003]"
      ]
     },
     "execution_count": 15,
     "metadata": {},
     "output_type": "execute_result"
    }
   ],
   "source": [
    "'''1. Create a list called years_list, starting with the year of your birth,\n",
    "and each year thereafter until the year of your fifth birthday. For example,\n",
    "if you were born in 1980. the list would be years_list =[1980, 1981, 1982, 1983, 1984, 1985].\n",
    "'''\n",
    "\n",
    "\n",
    "year=[]\n",
    "for i in range(1999,1999+5):\n",
    "    year.append(i)\n",
    "        \n",
    "year"
   ]
  },
  {
   "cell_type": "code",
   "execution_count": 24,
   "id": "83540d0e",
   "metadata": {},
   "outputs": [
    {
     "data": {
      "text/plain": [
       "2001"
      ]
     },
     "execution_count": 24,
     "metadata": {},
     "output_type": "execute_result"
    }
   ],
   "source": [
    "'''2. In which year in years_list was your third birthday?\n",
    "Remember, you were 0 years of age for your first year.'''\n",
    "\n",
    "year=[]\n",
    "for birth_year in range(1999,1999+5):\n",
    "    year.append(birth_year)\n",
    "    \n",
    "year[2]"
   ]
  },
  {
   "cell_type": "code",
   "execution_count": null,
   "id": "0de44f63",
   "metadata": {},
   "outputs": [],
   "source": [
    "'''3.In the years list, which year were you the oldest?'''\n"
   ]
  },
  {
   "cell_type": "code",
   "execution_count": 42,
   "id": "c3870dca",
   "metadata": {},
   "outputs": [
    {
     "data": {
      "text/plain": [
       "'cinderella'"
      ]
     },
     "execution_count": 42,
     "metadata": {},
     "output_type": "execute_result"
    }
   ],
   "source": [
    "'''4. Make a list called things with these three strings as elements:\n",
    "\"mozzarella\", \"cinderella\", \"salmonella\".'''\n",
    "\n",
    "things=[]\n",
    "for i in ['mozzarella','cinderella','salmonella']:\n",
    "    things.append(i)\n",
    "    \n",
    "things[1]"
   ]
  },
  {
   "cell_type": "code",
   "execution_count": 47,
   "id": "a355192b",
   "metadata": {},
   "outputs": [
    {
     "data": {
      "text/plain": [
       "'Salmonella'"
      ]
     },
     "execution_count": 47,
     "metadata": {},
     "output_type": "execute_result"
    }
   ],
   "source": [
    "'''5. Capitalize the element in things that refers to a person and \n",
    "then print the list. \n",
    "Did it change the element in the list?'''\n",
    "\n",
    "things_cap=things.copy()\n",
    "things_cap[2].capitalize()"
   ]
  },
  {
   "cell_type": "code",
   "execution_count": 48,
   "id": "8e3aa6f9",
   "metadata": {},
   "outputs": [
    {
     "data": {
      "text/plain": [
       "['Groucho', 'Chico', 'Harpo']"
      ]
     },
     "execution_count": 48,
     "metadata": {},
     "output_type": "execute_result"
    }
   ],
   "source": [
    "'''6. Make a surprise list with the elements \n",
    "\"Groucho,\" \"Chico,\" and \"Harpo.\"'''\n",
    "\n",
    "surprise_list=[\"Groucho\" ,\"Chico\", \"Harpo\"]\n",
    "surprise_list"
   ]
  },
  {
   "cell_type": "code",
   "execution_count": 56,
   "id": "159d8f94",
   "metadata": {},
   "outputs": [
    {
     "data": {
      "text/plain": [
       "'Oprah'"
      ]
     },
     "execution_count": 56,
     "metadata": {},
     "output_type": "execute_result"
    }
   ],
   "source": [
    "'''7. Lowercase the last element of the surprise list, reverse it, and \n",
    "then capitalize it.'''\n",
    "\n",
    "surprise_list[-1].lower()[::-1].capitalize()"
   ]
  },
  {
   "cell_type": "code",
   "execution_count": 57,
   "id": "f48a3e5e",
   "metadata": {},
   "outputs": [
    {
     "data": {
      "text/plain": [
       "{'dog': 'chien', 'cat': 'chat', 'walrus': 'morse'}"
      ]
     },
     "execution_count": 57,
     "metadata": {},
     "output_type": "execute_result"
    }
   ],
   "source": [
    "'''8. Make an English-to-French dictionary called e2f and print it. \n",
    "Here are your starter words: dog is chien, cat is chat, \n",
    "and walrus is morse.'''\n",
    "\n",
    "e2f={\n",
    "    'dog':\"chien\",\n",
    "    \"cat\":\"chat\",\n",
    "    \"walrus\":\"morse\"\n",
    "}\n",
    "\n",
    "e2f"
   ]
  },
  {
   "cell_type": "code",
   "execution_count": 62,
   "id": "d5c00660",
   "metadata": {},
   "outputs": [
    {
     "data": {
      "text/plain": [
       "'morse'"
      ]
     },
     "execution_count": 62,
     "metadata": {},
     "output_type": "execute_result"
    }
   ],
   "source": [
    "'''9. Write the French word for walrus in your three-word dictionary e2f.'''\n",
    "\n",
    "e2f.get(\"walrus\")"
   ]
  },
  {
   "cell_type": "code",
   "execution_count": 63,
   "id": "8787ffdc",
   "metadata": {},
   "outputs": [
    {
     "data": {
      "text/plain": [
       "{'chien': 'dog', 'chat': 'cat', 'morse': 'walrus'}"
      ]
     },
     "execution_count": 63,
     "metadata": {},
     "output_type": "execute_result"
    }
   ],
   "source": [
    "'''10. Make a French-to-English dictionary called f2e from e2f. \n",
    "Use the items method.'''\n",
    "\n",
    "f2e={}\n",
    "for english, french in e2f.items():\n",
    "    f2e[french] = english\n",
    "f2e"
   ]
  },
  {
   "cell_type": "code",
   "execution_count": 65,
   "id": "ca923910",
   "metadata": {},
   "outputs": [
    {
     "data": {
      "text/plain": [
       "'dog'"
      ]
     },
     "execution_count": 65,
     "metadata": {},
     "output_type": "execute_result"
    }
   ],
   "source": [
    "'''11. Print the English version of the French word chien using f2e.'''\n",
    "f2e.get(\"chien\")"
   ]
  },
  {
   "cell_type": "code",
   "execution_count": 67,
   "id": "697defea",
   "metadata": {},
   "outputs": [
    {
     "data": {
      "text/plain": [
       "dict_keys(['dog', 'cat', 'walrus'])"
      ]
     },
     "execution_count": 67,
     "metadata": {},
     "output_type": "execute_result"
    }
   ],
   "source": [
    "'''12. Make and print a set of English words from the keys in e2f.'''\n",
    "\n",
    "e2f.keys()"
   ]
  },
  {
   "cell_type": "code",
   "execution_count": 69,
   "id": "3597006c",
   "metadata": {},
   "outputs": [
    {
     "data": {
      "text/plain": [
       "{'animal': {'cats': ['Henri', 'Grumpy', 'Lucy'], 'octopi': {}, 'emus': {}},\n",
       " 'plants': {},\n",
       " 'other': {}}"
      ]
     },
     "execution_count": 69,
     "metadata": {},
     "output_type": "execute_result"
    }
   ],
   "source": [
    "'''13. Make a multilevel dictionary called life. \n",
    "Use these strings for the topmost keys: 'animals', 'plants', and 'other'. \n",
    "Make the 'animals' key refer to another dictionary with the keys 'cats', 'octopi', and 'emus'. \n",
    "Make the 'cats' key refer to a list of strings with the values 'Henri', 'Grumpy', and 'Lucy'.\n",
    "Make all the other keys refer to empty dictionaries.\n",
    "'''\n",
    "\n",
    "life={\n",
    "    \"animal\":{\n",
    "        \"cats\":[\"Henri\",\"Grumpy\",\"Lucy\"],\n",
    "        'octopi':{},\n",
    "        \"emus\":{}\n",
    "    },\n",
    "    \"plants\":{},\n",
    "    \"other\":{}\n",
    "}\n",
    "\n",
    "life"
   ]
  },
  {
   "cell_type": "code",
   "execution_count": 71,
   "id": "5e392002",
   "metadata": {},
   "outputs": [
    {
     "data": {
      "text/plain": [
       "dict_keys(['animal', 'plants', 'other'])"
      ]
     },
     "execution_count": 71,
     "metadata": {},
     "output_type": "execute_result"
    }
   ],
   "source": [
    "'''14. Print the top-level keys of life.'''\n",
    "\n",
    "life.keys()"
   ]
  },
  {
   "cell_type": "code",
   "execution_count": 73,
   "id": "5ce3a610",
   "metadata": {},
   "outputs": [
    {
     "data": {
      "text/plain": [
       "dict_keys(['cats', 'octopi', 'emus'])"
      ]
     },
     "execution_count": 73,
     "metadata": {},
     "output_type": "execute_result"
    }
   ],
   "source": [
    "'''15. Print the keys for life['animals'].'''\n",
    "\n",
    "life[\"animal\"].keys()"
   ]
  },
  {
   "cell_type": "code",
   "execution_count": 74,
   "id": "48efcb7d",
   "metadata": {},
   "outputs": [
    {
     "data": {
      "text/plain": [
       "['Henri', 'Grumpy', 'Lucy']"
      ]
     },
     "execution_count": 74,
     "metadata": {},
     "output_type": "execute_result"
    }
   ],
   "source": [
    "'''16. Print the values for life['animals']['cats']'''\n",
    "life[\"animal\"][\"cats\"]"
   ]
  }
 ],
 "metadata": {
  "kernelspec": {
   "display_name": "Python 3 (ipykernel)",
   "language": "python",
   "name": "python3"
  },
  "language_info": {
   "codemirror_mode": {
    "name": "ipython",
    "version": 3
   },
   "file_extension": ".py",
   "mimetype": "text/x-python",
   "name": "python",
   "nbconvert_exporter": "python",
   "pygments_lexer": "ipython3",
   "version": "3.9.12"
  }
 },
 "nbformat": 4,
 "nbformat_minor": 5
}
