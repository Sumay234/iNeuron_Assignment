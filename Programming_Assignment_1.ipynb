{
 "cells": [
  {
   "cell_type": "code",
   "execution_count": 1,
   "id": "67e0f70c",
   "metadata": {},
   "outputs": [
    {
     "name": "stdout",
     "output_type": "stream",
     "text": [
      "Hello Python\n"
     ]
    }
   ],
   "source": [
    "'''1. Write a Python program to print Hello Python?'''\n",
    "\n",
    "print(\"Hello Python\")"
   ]
  },
  {
   "cell_type": "code",
   "execution_count": 2,
   "id": "5b85c565",
   "metadata": {},
   "outputs": [
    {
     "name": "stdout",
     "output_type": "stream",
     "text": [
      "addition: 15\n",
      "Division: 2.0\n"
     ]
    }
   ],
   "source": [
    "'''2. Write a Python program to do arithmetical operations\n",
    "       addition and division.?'''\n",
    "a=10\n",
    "b=5\n",
    "print(\"addition:\",a+b)\n",
    "print(\"Division:\",a/b)"
   ]
  },
  {
   "cell_type": "code",
   "execution_count": 5,
   "id": "c6b51fda",
   "metadata": {},
   "outputs": [
    {
     "name": "stdout",
     "output_type": "stream",
     "text": [
      "Area of triangle is: 60.0\n"
     ]
    }
   ],
   "source": [
    "'''3. Write a Python program to find the area of a triangle?'''\n",
    "\n",
    "Height=10\n",
    "Base=12\n",
    "area_of_traingle=1/2*Base*Height\n",
    "\n",
    "print(\"Area of triangle is:\",area_of_traingle)"
   ]
  },
  {
   "cell_type": "code",
   "execution_count": 6,
   "id": "2f7f4651",
   "metadata": {},
   "outputs": [
    {
     "name": "stdout",
     "output_type": "stream",
     "text": [
      "The value of x: 7\n",
      "The value of y: 5\n"
     ]
    }
   ],
   "source": [
    "'''4. Write a Python program to swap two variables?'''\n",
    "\n",
    "x=5\n",
    "y=7\n",
    "\n",
    "swap=x   #swaping the variable\n",
    "x=y\n",
    "y=swap\n",
    "\n",
    "print(\"The value of x:\",x)\n",
    "print(\"The value of y:\",y)"
   ]
  },
  {
   "cell_type": "code",
   "execution_count": 15,
   "id": "cf96a7bb",
   "metadata": {},
   "outputs": [
    {
     "name": "stdout",
     "output_type": "stream",
     "text": [
      "10\n",
      "[29, 27, 14, 16, 20]\n"
     ]
    }
   ],
   "source": [
    "'''5. Write a Python program to generate a random number?'''\n",
    "\n",
    "import random\n",
    "print(random.randint(10,30))\n",
    "\n",
    "randomlist=random.sample(range(10,30),5)\n",
    "print(randomlist)\n"
   ]
  },
  {
   "cell_type": "code",
   "execution_count": null,
   "id": "755967e5",
   "metadata": {},
   "outputs": [],
   "source": []
  }
 ],
 "metadata": {
  "kernelspec": {
   "display_name": "Python 3 (ipykernel)",
   "language": "python",
   "name": "python3"
  },
  "language_info": {
   "codemirror_mode": {
    "name": "ipython",
    "version": 3
   },
   "file_extension": ".py",
   "mimetype": "text/x-python",
   "name": "python",
   "nbconvert_exporter": "python",
   "pygments_lexer": "ipython3",
   "version": "3.9.12"
  }
 },
 "nbformat": 4,
 "nbformat_minor": 5
}
