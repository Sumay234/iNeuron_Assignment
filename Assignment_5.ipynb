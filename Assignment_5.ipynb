{
 "cells": [
  {
   "cell_type": "markdown",
   "id": "5d2ab31b",
   "metadata": {},
   "source": [
    "1. What does an empty dictionarys code look like?\n",
    "\n",
    "ans) An empty dictionary's code look like two curly brackets: {}"
   ]
  },
  {
   "cell_type": "markdown",
   "id": "f3d200c9",
   "metadata": {},
   "source": [
    "2. What is the value of a dictionary value with the key foo and the value 42?\n",
    "\n",
    "ans)   {'foo':42}"
   ]
  },
  {
   "cell_type": "code",
   "execution_count": 1,
   "id": "905d7107",
   "metadata": {},
   "outputs": [
    {
     "data": {
      "text/plain": [
       "{'foo': 42}"
      ]
     },
     "execution_count": 1,
     "metadata": {},
     "output_type": "execute_result"
    }
   ],
   "source": [
    "# Ans to question no.2\n",
    "\n",
    "{'foo':42}"
   ]
  },
  {
   "cell_type": "markdown",
   "id": "503182bc",
   "metadata": {},
   "source": [
    "3. What is the most significant distinction between a dictionary and a list?\n",
    "\n",
    "ans) \n",
    "  * List are creating by placing [] whereas diction as key and value pace by {}.\n",
    "  * Both list and dictionary are mutuable.\n",
    "  * Lists allow Duplicates whereas in Dictionary we can't put duplicates items."
   ]
  },
  {
   "cell_type": "markdown",
   "id": "383ab236",
   "metadata": {},
   "source": [
    "4. What happens if you try to access spam[foo] if spam is {'bar': 100}?\n",
    "\n",
    "ans) it will give output of 42."
   ]
  },
  {
   "cell_type": "code",
   "execution_count": 2,
   "id": "1cd33464",
   "metadata": {},
   "outputs": [
    {
     "data": {
      "text/plain": [
       "dict_keys(['cat'])"
      ]
     },
     "execution_count": 2,
     "metadata": {},
     "output_type": "execute_result"
    }
   ],
   "source": [
    "# ans of question no.5\n",
    "\n",
    "spam={'cat':45}\n",
    "\n",
    "\n",
    "spam.keys()"
   ]
  },
  {
   "cell_type": "markdown",
   "id": "c1f11758",
   "metadata": {},
   "source": [
    "6. If a dictionary is stored in spam, what is the difference between the expressions 'cat' in spam and 'cat' in spam.values()?\n",
    "\n",
    "ans) expression \"cat\" in spam is a \"KEY\" whereas values is use to find the  value or the output of the dictionary"
   ]
  },
  {
   "cell_type": "code",
   "execution_count": 3,
   "id": "653cd537",
   "metadata": {},
   "outputs": [
    {
     "data": {
      "text/plain": [
       "dict_values([45])"
      ]
     },
     "execution_count": 3,
     "metadata": {},
     "output_type": "execute_result"
    }
   ],
   "source": [
    "# refer to question no.6\n",
    "\n",
    "spam.values()"
   ]
  },
  {
   "cell_type": "markdown",
   "id": "86b1870b",
   "metadata": {},
   "source": [
    "7. What is a shortcut for the following code?     \n",
    "    if 'color' not in spam:   \n",
    "    spam['color']='black\n",
    "   \n",
    "ans)  spam.setdefault('color', 'black')"
   ]
  },
  {
   "cell_type": "markdown",
   "id": "8a65a46d",
   "metadata": {},
   "source": [
    "8. How do you 'pretty print' dictionary values using which module and function?\n",
    "\n",
    "ans) not able to solve by my own"
   ]
  }
 ],
 "metadata": {
  "kernelspec": {
   "display_name": "Python 3 (ipykernel)",
   "language": "python",
   "name": "python3"
  },
  "language_info": {
   "codemirror_mode": {
    "name": "ipython",
    "version": 3
   },
   "file_extension": ".py",
   "mimetype": "text/x-python",
   "name": "python",
   "nbconvert_exporter": "python",
   "pygments_lexer": "ipython3",
   "version": "3.9.12"
  }
 },
 "nbformat": 4,
 "nbformat_minor": 5
}
