{
 "cells": [
  {
   "cell_type": "code",
   "execution_count": 5,
   "id": "3b1c58b5",
   "metadata": {},
   "outputs": [
    {
     "name": "stdout",
     "output_type": "stream",
     "text": [
      "Please enter the Km10\n",
      "Convert the 10.0 km into miles: 6.21\n"
     ]
    }
   ],
   "source": [
    "'''1. Write a Python program to convert kilometers to miles?'''\n",
    "\n",
    "# 1 Km = 0.62137 miles\n",
    "\n",
    "kilometers=float(input(\"Please enter the Km\"))\n",
    "km_1_to_miles = 0.621\n",
    "miles=kilometers*km_1_to_miles\n",
    "print(f\"Convert the {kilometers} km into miles:\",miles)"
   ]
  },
  {
   "cell_type": "code",
   "execution_count": 8,
   "id": "b8f158f8",
   "metadata": {},
   "outputs": [
    {
     "name": "stdout",
     "output_type": "stream",
     "text": [
      "Enter the temperature in Celsius 37\n",
      "37.00 celsius is : 98.60 Fahrenheit\n"
     ]
    }
   ],
   "source": [
    "'''2. Write a Python program to convert Celsius to Fahrenheit?'''\n",
    "\n",
    "celsius=float(input(\"Enter the temperature in Celsius \"))\n",
    "fahrenheit= (celsius*9/5)+32\n",
    "print(\"%.2f celsius is : %0.2f Fahrenheit\" % (celsius,fahrenheit))"
   ]
  },
  {
   "cell_type": "code",
   "execution_count": 13,
   "id": "60225917",
   "metadata": {},
   "outputs": [
    {
     "name": "stdout",
     "output_type": "stream",
     "text": [
      "                                  2022\n",
      "\n",
      "      January                   February                   March\n",
      "Mo Tu We Th Fr Sa Su      Mo Tu We Th Fr Sa Su      Mo Tu We Th Fr Sa Su\n",
      "                1  2          1  2  3  4  5  6          1  2  3  4  5  6\n",
      " 3  4  5  6  7  8  9       7  8  9 10 11 12 13       7  8  9 10 11 12 13\n",
      "10 11 12 13 14 15 16      14 15 16 17 18 19 20      14 15 16 17 18 19 20\n",
      "17 18 19 20 21 22 23      21 22 23 24 25 26 27      21 22 23 24 25 26 27\n",
      "24 25 26 27 28 29 30      28                        28 29 30 31\n",
      "31\n",
      "\n",
      "       April                      May                       June\n",
      "Mo Tu We Th Fr Sa Su      Mo Tu We Th Fr Sa Su      Mo Tu We Th Fr Sa Su\n",
      "             1  2  3                         1             1  2  3  4  5\n",
      " 4  5  6  7  8  9 10       2  3  4  5  6  7  8       6  7  8  9 10 11 12\n",
      "11 12 13 14 15 16 17       9 10 11 12 13 14 15      13 14 15 16 17 18 19\n",
      "18 19 20 21 22 23 24      16 17 18 19 20 21 22      20 21 22 23 24 25 26\n",
      "25 26 27 28 29 30         23 24 25 26 27 28 29      27 28 29 30\n",
      "                          30 31\n",
      "\n",
      "        July                     August                  September\n",
      "Mo Tu We Th Fr Sa Su      Mo Tu We Th Fr Sa Su      Mo Tu We Th Fr Sa Su\n",
      "             1  2  3       1  2  3  4  5  6  7                1  2  3  4\n",
      " 4  5  6  7  8  9 10       8  9 10 11 12 13 14       5  6  7  8  9 10 11\n",
      "11 12 13 14 15 16 17      15 16 17 18 19 20 21      12 13 14 15 16 17 18\n",
      "18 19 20 21 22 23 24      22 23 24 25 26 27 28      19 20 21 22 23 24 25\n",
      "25 26 27 28 29 30 31      29 30 31                  26 27 28 29 30\n",
      "\n",
      "      October                   November                  December\n",
      "Mo Tu We Th Fr Sa Su      Mo Tu We Th Fr Sa Su      Mo Tu We Th Fr Sa Su\n",
      "                1  2          1  2  3  4  5  6                1  2  3  4\n",
      " 3  4  5  6  7  8  9       7  8  9 10 11 12 13       5  6  7  8  9 10 11\n",
      "10 11 12 13 14 15 16      14 15 16 17 18 19 20      12 13 14 15 16 17 18\n",
      "17 18 19 20 21 22 23      21 22 23 24 25 26 27      19 20 21 22 23 24 25\n",
      "24 25 26 27 28 29 30      28 29 30                  26 27 28 29 30 31\n",
      "31\n",
      "\n"
     ]
    }
   ],
   "source": [
    "'''3. Write a Python program to display calendar?'''\n",
    "\n",
    "import calendar\n",
    "\n",
    "yy=2022\n",
    "\n",
    "print(calendar.calendar(yy))"
   ]
  },
  {
   "cell_type": "code",
   "execution_count": 14,
   "id": "028bd9e5",
   "metadata": {},
   "outputs": [
    {
     "data": {
      "text/plain": [
       "'4. Write a Python program to solve quadratic equation?'"
      ]
     },
     "execution_count": 14,
     "metadata": {},
     "output_type": "execute_result"
    }
   ],
   "source": [
    "'''4. Write a Python program to solve quadratic equation?'''\n",
    "\n",
    "# not able to solving it by own"
   ]
  },
  {
   "cell_type": "code",
   "execution_count": 16,
   "id": "c93d3f89",
   "metadata": {},
   "outputs": [
    {
     "name": "stdout",
     "output_type": "stream",
     "text": [
      "Before Swapping\n",
      "Value of x : 5 Value of y : 9\n",
      "After swapping\n",
      "Value of x : 9 Value of y : 5\n"
     ]
    }
   ],
   "source": [
    "'''5. Write a Python program to swap two variables without temp variable?'''\n",
    "\n",
    "x=5\n",
    "y=9\n",
    "print(\"Before Swapping\")\n",
    "print(\"Value of x :\",x,\"Value of y :\",y)\n",
    "\n",
    "x,y=y,x #Swapping\n",
    "print(\"After swapping\")\n",
    "print(\"Value of x :\",x,\"Value of y :\",y)"
   ]
  },
  {
   "cell_type": "code",
   "execution_count": null,
   "id": "3256f57f",
   "metadata": {},
   "outputs": [],
   "source": []
  }
 ],
 "metadata": {
  "kernelspec": {
   "display_name": "Python 3 (ipykernel)",
   "language": "python",
   "name": "python3"
  },
  "language_info": {
   "codemirror_mode": {
    "name": "ipython",
    "version": 3
   },
   "file_extension": ".py",
   "mimetype": "text/x-python",
   "name": "python",
   "nbconvert_exporter": "python",
   "pygments_lexer": "ipython3",
   "version": "3.9.12"
  }
 },
 "nbformat": 4,
 "nbformat_minor": 5
}
