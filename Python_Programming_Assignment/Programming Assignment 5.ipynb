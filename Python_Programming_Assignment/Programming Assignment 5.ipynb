{
 "cells": [
  {
   "cell_type": "markdown",
   "id": "16eb0ef9",
   "metadata": {},
   "source": [
    "# Programming Assignment 5"
   ]
  },
  {
   "cell_type": "markdown",
   "id": "66674480",
   "metadata": {},
   "source": [
    "1. Write a Python Program to find LCM ?"
   ]
  },
  {
   "cell_type": "code",
   "execution_count": 3,
   "id": "7c2a346f",
   "metadata": {},
   "outputs": [
    {
     "name": "stdout",
     "output_type": "stream",
     "text": [
      "Enter Number 1: 2\n",
      "Enter Number 2: 8\n",
      "The L.C.M. is 8\n"
     ]
    }
   ],
   "source": [
    "def lcm(x,y):\n",
    "    if x > y:\n",
    "        greater = x\n",
    "    else:\n",
    "        greater = y\n",
    "        \n",
    "    while True:\n",
    "        if ( (greater % x == 0) and (greater % y == 0)):\n",
    "            lcm =greater\n",
    "            break\n",
    "        greater = greater+1\n",
    "    return lcm\n",
    "\n",
    "num1 = int(input(\"Enter Number 1: \"))\n",
    "num2 = int(input(\"Enter Number 2: \"))\n",
    "print(\"The L.C.M. is\", lcm(num1, num2))"
   ]
  },
  {
   "cell_type": "markdown",
   "id": "4e1ba581",
   "metadata": {},
   "source": [
    "2. Write a Python Program to find HCF ?"
   ]
  },
  {
   "cell_type": "code",
   "execution_count": 6,
   "id": "49764daa",
   "metadata": {},
   "outputs": [
    {
     "name": "stdout",
     "output_type": "stream",
     "text": [
      "Enter Number 1: 10\n",
      "Enter Number 2: 20\n",
      "The H.C.F. is 1\n"
     ]
    }
   ],
   "source": [
    "def hcf(x,y):\n",
    "    if x > y:\n",
    "        smaller = y\n",
    "    else:\n",
    "        smaller = x\n",
    "        \n",
    "    for i in range(1 , smaller+1):\n",
    "        if ( (x % i ==0) and (y % i ==0) ):\n",
    "            hcf = i\n",
    "        return hcf\n",
    "    \n",
    "num1 = int(input(\"Enter Number 1: \"))\n",
    "num2 = int(input(\"Enter Number 2: \"))\n",
    "print(\"The H.C.F. is\", hcf(num1, num2))"
   ]
  },
  {
   "cell_type": "markdown",
   "id": "8ff13ee4",
   "metadata": {},
   "source": [
    "3. Write a Python Program to Convert Decimal to Binary, Octal and Hexadecimal ?"
   ]
  },
  {
   "cell_type": "code",
   "execution_count": 15,
   "id": "20263ee3",
   "metadata": {},
   "outputs": [
    {
     "name": "stdout",
     "output_type": "stream",
     "text": [
      "Enter the number: 55\n",
      "The decimal value of 55 is: \n",
      "0b110111  in binary\n",
      "0o67 in octal\n",
      "0x37 in hexadecimal\n"
     ]
    }
   ],
   "source": [
    "def decimal_conversation(num):\n",
    "    print(f\"The decimal value of {num} is: \")\n",
    "    print(bin(num), \" in binary\")\n",
    "    print(oct(num), \"in octal\")\n",
    "    print(hex(num), \"in hexadecimal\")\n",
    "    \n",
    "    \n",
    "num =int(input(\"Enter the number: \"))\n",
    "decimal_conversation(num)    "
   ]
  },
  {
   "cell_type": "markdown",
   "id": "89e22232",
   "metadata": {},
   "source": [
    "4. Write a Python Program to Find the ASCII value of a Character ?"
   ]
  },
  {
   "cell_type": "code",
   "execution_count": 23,
   "id": "035c3d22",
   "metadata": {},
   "outputs": [
    {
     "name": "stdout",
     "output_type": "stream",
     "text": [
      "Enter the charcter: q\n",
      "The ASCII value of q is 113\n"
     ]
    }
   ],
   "source": [
    "def ascii_val():\n",
    "    char=str(input(\"Enter the charcter: \"))\n",
    "    print(f\"The ASCII value of {char} is {ord(char)}\")\n",
    "    \n",
    "ascii_val()"
   ]
  },
  {
   "cell_type": "markdown",
   "id": "fdd8eaf3",
   "metadata": {},
   "source": [
    "5. Write a Python Program to Make a Simple Calculator with 4 Basic Mathematical operations ?"
   ]
  },
  {
   "cell_type": "code",
   "execution_count": 37,
   "id": "939ca282",
   "metadata": {},
   "outputs": [
    {
     "name": "stdout",
     "output_type": "stream",
     "text": [
      "Select the Opertation you want: \n",
      " 1 for Add: \n",
      " 2 for Subtract: \n",
      " 3 for Multiply: \n",
      " 4 for Divided: \n",
      "Enter the choise: 5\n",
      "invalid input \n",
      "Enter the choise: 6\n",
      "invalid input \n",
      "Enter the choise: 4\n",
      "Enter the first number: 78\n",
      "Enter the second number: 45\n",
      "1.7333333333333334\n"
     ]
    }
   ],
   "source": [
    "def add(x,y):\n",
    "    return x + y\n",
    "\n",
    "def subtract(x,y):\n",
    "    return x - y\n",
    "\n",
    "def multiply(x,y):\n",
    "    return x * y\n",
    "\n",
    "def divided(x,y):\n",
    "    return x / y\n",
    "\n",
    "print(\"Select the Opertation you want: \")\n",
    "print(\" 1 for Add: \")\n",
    "print(\" 2 for Subtract: \")\n",
    "print(\" 3 for Multiply: \")\n",
    "print(\" 4 for Divided: \")\n",
    "\n",
    "while True:\n",
    "    \n",
    "    choice=input(\"Enter the choise: \")\n",
    "    if choice in (\"1\",\"2\",\"3\",\"4\"):\n",
    "        num1=float(input(\"Enter the first number: \"))\n",
    "        num2=float(input(\"Enter the second number: \"))\n",
    "        \n",
    "        if choice == \"1\":\n",
    "             print(add(num1,num2))\n",
    "        elif choice == \"2\":\n",
    "            print(subtract(num1,num2))\n",
    "        elif choice ==\"3\":\n",
    "            print(multiply(num1,num2))\n",
    "        elif choice == \"4\":\n",
    "            print(divided(num1,num2))\n",
    "        break\n",
    "    else:\n",
    "        print(\"invalid input \")\n",
    "        "
   ]
  },
  {
   "cell_type": "code",
   "execution_count": null,
   "id": "388e2f11",
   "metadata": {},
   "outputs": [],
   "source": [
    "\n",
    "        "
   ]
  },
  {
   "cell_type": "code",
   "execution_count": null,
   "id": "e8efe02d",
   "metadata": {},
   "outputs": [],
   "source": []
  }
 ],
 "metadata": {
  "kernelspec": {
   "display_name": "Python 3 (ipykernel)",
   "language": "python",
   "name": "python3"
  },
  "language_info": {
   "codemirror_mode": {
    "name": "ipython",
    "version": 3
   },
   "file_extension": ".py",
   "mimetype": "text/x-python",
   "name": "python",
   "nbconvert_exporter": "python",
   "pygments_lexer": "ipython3",
   "version": "3.9.12"
  }
 },
 "nbformat": 4,
 "nbformat_minor": 5
}
