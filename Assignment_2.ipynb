{
  "nbformat": 4,
  "nbformat_minor": 0,
  "metadata": {
    "colab": {
      "provenance": []
    },
    "kernelspec": {
      "name": "python3",
      "display_name": "Python 3"
    },
    "language_info": {
      "name": "python"
    }
  },
  "cells": [
    {
      "cell_type": "markdown",
      "source": [
        "1.What are the two values of the Boolean data type? How do you write them?\n",
        "\n",
        "ans. The two values of the boolean Data types are:-        \n",
        "        1) True  Ex  (10>9),(10==10)  \n",
        "        2) False ex  (10!=10)"
      ],
      "metadata": {
        "id": "R0QxlyLrOLmh"
      }
    },
    {
      "cell_type": "markdown",
      "source": [
        "2. What are the three different types of Boolean operators?\n",
        "\n",
        "ans. The three different types of Boolean operators:-          \n",
        "                 (AND,OR,NOT)"
      ],
      "metadata": {
        "id": "pIY2oXi9PQQy"
      }
    },
    {
      "cell_type": "markdown",
      "source": [
        "3. Make a list of each Boolean operator&#39;s truth tables (i.e. every possible combination of Boolean\n",
        "values for the operator and what it evaluate)."
      ],
      "metadata": {
        "id": "j7JimKCNPQS_"
      }
    },
    {
      "cell_type": "code",
      "source": [
        "'''  4  What are the values of the following expressions? \n",
        "           (5 > 4) and (3 == 5) \n",
        "           not (5 > 4) (5 > 4) or \n",
        "         (3 == 5) not ((5 > 4) or (3 == 5)) \n",
        "         (True and True) and (True == False) \n",
        "         (not False) or (not True)'''\n",
        "\n",
        "print(5>4) and (3==5)\n",
        "print (3==5) \n",
        "print(5 > 4) or (3 == 5)\n",
        "print (True and True) and (True == False)\n",
        "print (not False) or (not True)"
      ],
      "metadata": {
        "colab": {
          "base_uri": "https://localhost:8080/"
        },
        "id": "iijbIOi8RtiI",
        "outputId": "4ed7a7ff-10e8-4b03-c285-344103301784"
      },
      "execution_count": 17,
      "outputs": [
        {
          "output_type": "stream",
          "name": "stdout",
          "text": [
            "True\n",
            "False\n",
            "True\n",
            "True\n",
            "True\n"
          ]
        },
        {
          "output_type": "execute_result",
          "data": {
            "text/plain": [
              "False"
            ]
          },
          "metadata": {},
          "execution_count": 17
        }
      ]
    },
    {
      "cell_type": "markdown",
      "source": [
        "5. What are the six comparison operators?\n",
        "\n",
        "ans. The Six comparison operators are-\n",
        "     \n",
        "\n",
        "1.   less than                   (<)\n",
        "2.   greater than                (>)\n",
        "3.   less than or equal to       (<=)\n",
        "4.   equal to or greater than    (>=)\n",
        "5.   equal to                    (==)\n",
        "6.   not equal to                (!=) \n",
        "\n",
        "\n",
        "\n",
        "\n",
        "\n",
        "\n"
      ],
      "metadata": {
        "id": "hkGSV85XPQXb"
      }
    },
    {
      "cell_type": "markdown",
      "source": [
        "6. How do you tell the difference between the equal to and assignment operators?Describe a\n",
        "condition and when you would use one.\n",
        "\n",
        "ans. The \"=\" ia an assigement is used to assign the value on the right to the variable on the left whereas The \"==\" operators check whether the two given operator are equal or not.\n",
        "\n",
        "example  \n",
        "Assignment operator: a=10, b=25   \n",
        "equal to           : a==10   "
      ],
      "metadata": {
        "id": "0ru55-T5PQbL"
      }
    },
    {
      "cell_type": "code",
      "source": [
        "'''7. Identify the three blocks in this code:\n",
        "spam = 0\n",
        "if spam == 10:\n",
        "print('eggs')\n",
        "if spam >5:\n",
        "print('bacon')\n",
        "else:\n",
        "print('ham')\n",
        "print('spam')\n",
        "print('spam') '''\n",
        "\n",
        "spam=0\n",
        "if spam==10:\n",
        "  print(\"eggs\")\n",
        "elif spam >5:\n",
        "    print(\"bacon\")\n",
        "else:\n",
        "  print('ham')\n",
        "  print('spam')\n",
        "  print('spam')"
      ],
      "metadata": {
        "colab": {
          "base_uri": "https://localhost:8080/"
        },
        "id": "btl63ecFWgDo",
        "outputId": "6b1461be-b0e7-4d13-f6d9-11e6e8bbd3d3"
      },
      "execution_count": 20,
      "outputs": [
        {
          "output_type": "stream",
          "name": "stdout",
          "text": [
            "ham\n",
            "spam\n",
            "spam\n"
          ]
        }
      ]
    },
    {
      "cell_type": "code",
      "source": [
        "'''8. Write code that prints Hello if 1 is stored in spam, prints Howdy if 2 is stored in spam, and prints\n",
        "Greetings! if anything else is stored in spam.'''\n",
        "\n",
        "spam=1\n",
        "\n",
        "if spam == 1:\n",
        "  print(\"Hello\")\n",
        "elif spam == 2:\n",
        "  print(\"Howdy\")\n",
        "else:\n",
        "  print(\"Greetings!\")\n"
      ],
      "metadata": {
        "colab": {
          "base_uri": "https://localhost:8080/"
        },
        "id": "mVbtxhq8Xg4d",
        "outputId": "cd710253-271f-41ac-8401-2493d1fe73fa"
      },
      "execution_count": 25,
      "outputs": [
        {
          "output_type": "stream",
          "name": "stdout",
          "text": [
            "Hello\n"
          ]
        }
      ]
    },
    {
      "cell_type": "markdown",
      "source": [
        "9.If your programme is stuck in an endless loop, what keys you’ll press?\n",
        "\n",
        "ans. CTRL+C"
      ],
      "metadata": {
        "id": "bOE0N_SwakZ0"
      }
    },
    {
      "cell_type": "markdown",
      "source": [
        "10. How can you tell the difference between break and continue?\n",
        "\n",
        "ans. the main difference betwwen both statement is break keyword terminates the execution and passes the control over the next loop or mainbody, whereas when continue keyword is encountered, it skips the current iterarion and executes  the very next iteration in the loop."
      ],
      "metadata": {
        "id": "kweX8--pavjt"
      }
    },
    {
      "cell_type": "markdown",
      "source": [
        "11. In a for loop, what is the difference between range(10), range(0, 10), and range(0, 10, 1)?\n",
        "\n",
        "ans.)   range(0,10) it mean that it will started from 0 to 10.       \n",
        "       range(0,10,1) it mean that it will started from 0 to 10 with a difference of 1."
      ],
      "metadata": {
        "id": "HJFHyjb1avmE"
      }
    },
    {
      "cell_type": "code",
      "source": [
        "'''12. Write a short program that prints the numbers 1 to 10 using a for loop. Then write an equivalent\n",
        "program that prints the numbers 1 to 10 using a while loop.\n",
        "'''\n",
        "\n",
        "\n",
        "for num in range(1,11,1):\n",
        "  print(num)"
      ],
      "metadata": {
        "colab": {
          "base_uri": "https://localhost:8080/"
        },
        "id": "WTU2QXWFb4gr",
        "outputId": "d2dbefe8-98bb-4781-93cf-39c5929ca696"
      },
      "execution_count": 32,
      "outputs": [
        {
          "output_type": "stream",
          "name": "stdout",
          "text": [
            "1\n",
            "2\n",
            "3\n",
            "4\n",
            "5\n",
            "6\n",
            "7\n",
            "8\n",
            "9\n",
            "10\n"
          ]
        }
      ]
    },
    {
      "cell_type": "markdown",
      "source": [
        "13. If you had a function named bacon() inside a module named spam, how would you call it after\n",
        "importing spam?"
      ],
      "metadata": {
        "id": "eQ2V2BnTdTr8"
      }
    }
  ]
}