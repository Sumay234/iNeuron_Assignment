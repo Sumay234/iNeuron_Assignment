{
 "cells": [
  {
   "cell_type": "code",
   "execution_count": null,
   "id": "8299bc7c",
   "metadata": {},
   "outputs": [],
   "source": [
    "'''1. Write a Python Program to Check if a Number is \n",
    "         Positive, Negative or Zero?'''\n",
    "\n",
    "n=int(input(\"Enter the Number to Check whether the no. is Positive, Negative or Zero\"))\n",
    "\n",
    "if n==0:\n",
    "    print(f\"The given number {n} is Zero\")\n",
    "    \n",
    "elif n>0:\n",
    "    print(f\"The Given Number {n} is Positive\")\n",
    "\n",
    "else:\n",
    "    print(f\"The Given number {n} is negative\")\n",
    "\n",
    "    "
   ]
  },
  {
   "cell_type": "code",
   "execution_count": null,
   "id": "3274511b",
   "metadata": {},
   "outputs": [],
   "source": [
    "'''2. Write a Python Program to Check if a Number is Odd or Even?'''\n",
    "\n",
    "a=int(input(\"Enter the no.to check it is Odd or even\"))\n",
    "\n",
    "if (a%2)==0:\n",
    "    print(f\"The number {a} is Even\")\n",
    "    \n",
    "else:\n",
    "    print(f\"The number {a} is negative\")"
   ]
  },
  {
   "cell_type": "code",
   "execution_count": null,
   "id": "dbdfbf17",
   "metadata": {},
   "outputs": [],
   "source": [
    "'''3. Write a Python Program to Check Leap Year?'''\n",
    "\n",
    "year=int(input(\"Enter the year to check it\"))\n",
    "\n",
    "if (year%4)==0:\n",
    "    print(f\"The year {year} is a leap year\")\n",
    "else:\n",
    "    print(f\"The year {year} is not a leap year\")"
   ]
  },
  {
   "cell_type": "code",
   "execution_count": null,
   "id": "f314cf87",
   "metadata": {},
   "outputs": [],
   "source": [
    "'''4. Write a Python Program to Check Prime Number?'''\n",
    "\n",
    "\n",
    "# Not able to doing by own"
   ]
  },
  {
   "cell_type": "code",
   "execution_count": null,
   "id": "ed2b2e36",
   "metadata": {},
   "outputs": [],
   "source": [
    "''' 5. Write a Python Program to Print all Prime Numbers \n",
    "      in an Interval of 1-10000?'''\n",
    "\n",
    "# not able to doing by own"
   ]
  },
  {
   "cell_type": "code",
   "execution_count": null,
   "id": "da56103b",
   "metadata": {},
   "outputs": [],
   "source": []
  }
 ],
 "metadata": {
  "kernelspec": {
   "display_name": "Python 3 (ipykernel)",
   "language": "python",
   "name": "python3"
  },
  "language_info": {
   "codemirror_mode": {
    "name": "ipython",
    "version": 3
   },
   "file_extension": ".py",
   "mimetype": "text/x-python",
   "name": "python",
   "nbconvert_exporter": "python",
   "pygments_lexer": "ipython3",
   "version": "3.9.12"
  }
 },
 "nbformat": 4,
 "nbformat_minor": 5
}
