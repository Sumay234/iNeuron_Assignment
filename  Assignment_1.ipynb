{
 "cells": [
  {
   "cell_type": "raw",
   "id": "9d7ba229",
   "metadata": {},
   "source": [
    "1. In the below elements which of them are values or an expression? eg:- values can be\n",
    "integer or string and expressions will be mathematical operators.\n",
    "\n",
    "*        =  expressions\n",
    "\"hello\"  =  Values\n",
    "-87.8    =  Values\n",
    "-        =  expression\n",
    "/        =  expression\n",
    "+        =  expression\n",
    "6        =  values\n"
   ]
  },
  {
   "cell_type": "raw",
   "id": "20b89eb1",
   "metadata": {},
   "source": [
    "2. What is the difference between string and variable?\n",
    "\n",
    "ans. String:- it is sentence/text/character which is used to stored.\n",
    "              For Ex= \"Hello World\",\"Enter your Name\" as well as \"45+65\".\n",
    "              \n",
    "     Variable:- it is used to denote objects by that names.\n",
    "                For ex = a=30,b=70,name=\"enter ur name\".\n",
    "                here (a,b,name) are the variable.\n",
    "        "
   ]
  },
  {
   "cell_type": "raw",
   "id": "bd048767",
   "metadata": {},
   "source": [
    "3. Describe three different data types.\n",
    "\n",
    "ans. the three data-types are-\n",
    "     \n",
    "     1) Numeric Data-types= it represent the data which has numeric value.\n",
    "                            for ex= integers,floating,complex number.\n",
    "                            \n",
    "     2) Dictionary Data-types= it is an unordered collection of data value,used \n",
    "                               to stored data like a map,which unlike other                                    data types that hold only single values as an                                  elements.\n",
    "                               \n",
    "     3) Sequence Data-Type=  it is an ordered collection of similar or       \n",
    "                             different data types.\n",
    "                             for ex- String,List,Tuples.\n",
    "                             "
   ]
  },
  {
   "cell_type": "raw",
   "id": "3bf8837e",
   "metadata": {},
   "source": [
    "4. What is an expression made up of? What do all expressions do?\n",
    "\n",
    "ans. Expression is made up of mathematicals symbol such as (/,*,-,+,=) and it use      to do mathematical claculation."
   ]
  },
  {
   "cell_type": "raw",
   "id": "35d1e473",
   "metadata": {},
   "source": [
    "5. This assignment statements, like spam = 10. What is the difference between      an expression and a statement?\n",
    "\n",
    "ans. (didn't understand the question but still trying in the next line).\n",
    "     \"This assignment statements, like spam\" :- is a statement\n",
    "                            =                :- is a expression"
   ]
  },
  {
   "cell_type": "raw",
   "id": "b6ce4d5a",
   "metadata": {},
   "source": [
    "6. After running the following code, what does the variable bacon contain?\n",
    "   bacon = 22\n",
    "   bacon + 1\n",
    "   \n",
    "ans. 23"
   ]
  },
  {
   "cell_type": "code",
   "execution_count": 9,
   "id": "db0e895f",
   "metadata": {},
   "outputs": [
    {
     "data": {
      "text/plain": [
       "23"
      ]
     },
     "execution_count": 9,
     "metadata": {},
     "output_type": "execute_result"
    }
   ],
   "source": [
    "# \" Code of Question no. 6\"\n",
    "\n",
    "bacon = 22\n",
    "bacon + 1"
   ]
  },
  {
   "cell_type": "raw",
   "id": "acbffbed",
   "metadata": {},
   "source": [
    "7. What should the values of the following two terms be?\n",
    "   \"spam\" + \"spamspam\"\n",
    "   \"spam\" * 3\n",
    "   \n",
    "ans.  \"spam\" + \"spamspam\" = 'spamspamspam'\n",
    "      \"spam\" * 3          =  'spamspamspam'\n",
    "   "
   ]
  },
  {
   "cell_type": "code",
   "execution_count": 7,
   "id": "d1159c9a",
   "metadata": {},
   "outputs": [
    {
     "name": "stdout",
     "output_type": "stream",
     "text": [
      "spamspamspam\n",
      "spamspamspam\n"
     ]
    }
   ],
   "source": [
    "# \" Code of question no. 7\"\n",
    "\n",
    "print(\"spam\" + \"spamspam\")\n",
    "print(\"spam\" * 3)"
   ]
  },
  {
   "cell_type": "raw",
   "id": "399d99b2",
   "metadata": {},
   "source": [
    "8. Why is eggs a valid variable name while 100 is invalid?\n",
    "\n",
    "ans. because 100 will be considered as a numeric value instead of variable."
   ]
  },
  {
   "cell_type": "raw",
   "id": "16774e1c",
   "metadata": {},
   "source": [
    "9. What three functions can be used to get the integer, floating-point number,    or string version of a value?\n",
    "\n",
    "ans. (i am not getting the ans because not able to understand the question.)"
   ]
  },
  {
   "cell_type": "raw",
   "id": "e99e381d",
   "metadata": {},
   "source": [
    "10. Why does this expression cause an error? How can you fix it?\n",
    "    'I have eaten'  + 99 + 'burritos.'\n",
    "    \n",
    "ans.  simply by making 99 as string.\n",
    "      'I have eaten'  + \" 99 \" + 'burritos.'\n",
    "    \n",
    "    "
   ]
  },
  {
   "cell_type": "code",
   "execution_count": 13,
   "id": "e6074df9",
   "metadata": {},
   "outputs": [
    {
     "data": {
      "text/plain": [
       "'I have eaten 99 burritos.'"
      ]
     },
     "execution_count": 13,
     "metadata": {},
     "output_type": "execute_result"
    }
   ],
   "source": [
    "# \" Code of Question no. 10\"\n",
    "\n",
    "'I have eaten'  + \" 99 \" + 'burritos.'"
   ]
  }
 ],
 "metadata": {
  "kernelspec": {
   "display_name": "Python 3 (ipykernel)",
   "language": "python",
   "name": "python3"
  },
  "language_info": {
   "codemirror_mode": {
    "name": "ipython",
    "version": 3
   },
   "file_extension": ".py",
   "mimetype": "text/x-python",
   "name": "python",
   "nbconvert_exporter": "python",
   "pygments_lexer": "ipython3",
   "version": "3.9.12"
  }
 },
 "nbformat": 4,
 "nbformat_minor": 5
}
