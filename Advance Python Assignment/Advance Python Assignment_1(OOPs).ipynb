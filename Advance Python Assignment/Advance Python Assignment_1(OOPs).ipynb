{
 "cells": [
  {
   "cell_type": "markdown",
   "id": "9ed907d0",
   "metadata": {},
   "source": [
    "Q1. What is the purpose of Python OOP?\n",
    "\n",
    "ans) \n",
    "     OOPs stand for Object-Oriented program.OOPs refers to languages that uses objects in programming. Object-oriented programming aims to implement real-world entities like inheritance, hiding, polymorphism etc in programming.\n",
    "The main Object of OOPs is to blind together the data and the function that operate on them so that no other part of the code can access this data except that function.\n",
    "\n",
    "  In Python, object-oriented Programming (OOPs) uses objects and classes in       programming.  \n",
    "  \n",
    "  It aims to implement real-world entities like inheritance, polymorphisms,       encapsulation, etc. in the programming.     \n",
    "  \n",
    "   It aims to implement real-world entities like inheritance, polymorphisms,      encapsulation, etc. in the programming.   "
   ]
  },
  {
   "cell_type": "markdown",
   "id": "630f4157",
   "metadata": {},
   "source": [
    "Q2. Where does an inheritance search look for an attribute?\n",
    "\n",
    "ans) The inheritance search is simply a search of the tree from bottom to top looking for the lowest occurrence of an attribute name."
   ]
  },
  {
   "cell_type": "markdown",
   "id": "de3b4a65",
   "metadata": {},
   "source": [
    "Q3. How do you distinguish between a class object and an instance object?  \n",
    "\n",
    "ans) The difference between a class object and an instance object are as follows:-\n",
    "\n",
    "  1.A Class is created once. Many objects are created using a class or under the class.    \n",
    "  2. we can not use same type or same name of class again and again whereas we can use same name of object in different class.   \n",
    "  3. Class is a template for creating objects whereas object is an instance of class\n"
   ]
  },
  {
   "cell_type": "markdown",
   "id": "b3d6e6e4",
   "metadata": {},
   "source": [
    "Q4. What makes the first argument in a class’s method function special?\n",
    "\n",
    "ans) in class method function we have to give a pointer name (self) as a first parameter or the first argument."
   ]
  },
  {
   "cell_type": "markdown",
   "id": "9e69ca8c",
   "metadata": {},
   "source": [
    "Q5. What is the purpose of the init method?\n",
    "\n",
    "ans) __init__ is a reserve method or a keyword which we have to use class as a constructer. It allows the class to initialize the attributes of the class."
   ]
  },
  {
   "cell_type": "markdown",
   "id": "5aec0358",
   "metadata": {},
   "source": [
    "Q6. What is the process for creating a class instance?\n",
    "\n",
    "ans)To create a class instance, we need to call the class by its name and pass the arguments to the class, which its init method accepts.\n",
    "\n",
    "Example: my_name = my_class(\"ram\",\"shyam\") Here my_name is an instance of class my_class with attributes \"ram\" and \"shyam\"."
   ]
  },
  {
   "cell_type": "markdown",
   "id": "b7a3f032",
   "metadata": {},
   "source": [
    "Q7. What is the process for creating a class?\n",
    "\n",
    "ans) class keyword is used to created a class in python. The syntax to create a class in python is class :\n",
    "\n",
    "Example: class Car: ➞ this creates a class called Car."
   ]
  },
  {
   "cell_type": "markdown",
   "id": "44fa4a60",
   "metadata": {},
   "source": [
    "Q8. How would you define the superclasses of a class?\n",
    "\n",
    "ans)The super() function returns a parent class object and can be used to access the attributes or methods of the parent class inside the child class."
   ]
  },
  {
   "cell_type": "code",
   "execution_count": null,
   "id": "1bdc1fb9",
   "metadata": {},
   "outputs": [],
   "source": []
  }
 ],
 "metadata": {
  "kernelspec": {
   "display_name": "Python 3 (ipykernel)",
   "language": "python",
   "name": "python3"
  },
  "language_info": {
   "codemirror_mode": {
    "name": "ipython",
    "version": 3
   },
   "file_extension": ".py",
   "mimetype": "text/x-python",
   "name": "python",
   "nbconvert_exporter": "python",
   "pygments_lexer": "ipython3",
   "version": "3.9.12"
  }
 },
 "nbformat": 4,
 "nbformat_minor": 5
}
