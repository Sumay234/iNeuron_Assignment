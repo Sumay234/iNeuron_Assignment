{
 "cells": [
  {
   "cell_type": "markdown",
   "id": "48761a5c",
   "metadata": {},
   "source": [
    "1. What is the name of the feature responsible for generating Regex objects?\n",
    "\n",
    "ans) re.compile() is the feature responsible for generation of Regex object."
   ]
  },
  {
   "cell_type": "code",
   "execution_count": 2,
   "id": "8299051e",
   "metadata": {},
   "outputs": [
    {
     "name": "stdout",
     "output_type": "stream",
     "text": [
      "<class 're.Pattern'>\n",
      "re.compile('some_random_pattern')\n"
     ]
    }
   ],
   "source": [
    "import re\n",
    "y=re.compile(\"My name is Sumay\")\n",
    "print(type(x))\n",
    "print(x)"
   ]
  },
  {
   "cell_type": "markdown",
   "id": "5edebc25",
   "metadata": {},
   "source": [
    "2. Why do raw strings often appear in Regex objects?\n",
    "\n",
    "ans)Raw strings are used so that backslashes do not have to be escaped."
   ]
  },
  {
   "cell_type": "markdown",
   "id": "c3a17ca2",
   "metadata": {},
   "source": [
    "3. What is the return value of the search() method?\n",
    "\n",
    "ans) the return value of the search() method is that it returns Match objects. \n",
    "     The search() function searches the string for a match, and          \n",
    "     returns a Match object if there is a match."
   ]
  },
  {
   "cell_type": "markdown",
   "id": "6abd9f43",
   "metadata": {},
   "source": [
    "4. From a Match item, how do you get the actual strings that match the pattern\n",
    "\n",
    "ans) For Matched items group() methods returns actual strings that match the pattern"
   ]
  },
  {
   "cell_type": "code",
   "execution_count": null,
   "id": "65b77f79",
   "metadata": {},
   "outputs": [],
   "source": [
    "5. In the regex which created from the r'(\\d\\d\\d)-(\\d\\d\\d-\\d\\d\\d\\d)', \n",
    "   what does group zero cover? Group 2? Group 1?"
   ]
  },
  {
   "cell_type": "code",
   "execution_count": null,
   "id": "6e38d5d0",
   "metadata": {},
   "outputs": [],
   "source": [
    "6. In standard expression syntax, parentheses and \n",
    " intervals have distinct meanings. \n",
    "How can you tell a regex that you want it to fit real parentheses and periods?\n",
    "\n"
   ]
  },
  {
   "cell_type": "code",
   "execution_count": null,
   "id": "c8f7c417",
   "metadata": {},
   "outputs": [],
   "source": [
    "7. The findall() method returns a string list or a list of string tuples.\n",
    "  What causes it to return one of the two options?"
   ]
  },
  {
   "cell_type": "code",
   "execution_count": null,
   "id": "20d4093c",
   "metadata": {},
   "outputs": [],
   "source": [
    "8. In standard expressions, what does the | character mean?\n",
    "\n"
   ]
  },
  {
   "cell_type": "code",
   "execution_count": null,
   "id": "01246587",
   "metadata": {},
   "outputs": [],
   "source": [
    "9. In regular expressions, what does the ? character stand for?"
   ]
  },
  {
   "cell_type": "code",
   "execution_count": null,
   "id": "3848672d",
   "metadata": {},
   "outputs": [],
   "source": [
    "10.In regular expressions, what is the difference between \n",
    "    the + and * characters?\n",
    "    \n",
    "    \n"
   ]
  },
  {
   "cell_type": "code",
   "execution_count": null,
   "id": "0d5c3287",
   "metadata": {},
   "outputs": [],
   "source": [
    "11. What is the difference between {4} and {4,5} in regular expression?"
   ]
  },
  {
   "cell_type": "code",
   "execution_count": null,
   "id": "ff6fff59",
   "metadata": {},
   "outputs": [],
   "source": [
    "12. What do you mean by the \\d, \\w, and \\s \n",
    "    shorthand character classes signify in regular expressions?\n",
    "    \n",
    "    "
   ]
  },
  {
   "cell_type": "code",
   "execution_count": null,
   "id": "28db58fc",
   "metadata": {},
   "outputs": [],
   "source": [
    "13. What do means by \\D, \\W, and \\S shorthand character \n",
    "   classes signify in regular expressions?\n",
    "    \n",
    "    \n"
   ]
  },
  {
   "cell_type": "code",
   "execution_count": null,
   "id": "58d3b873",
   "metadata": {},
   "outputs": [],
   "source": [
    "14. What is the difference between .*? and .*?"
   ]
  },
  {
   "cell_type": "code",
   "execution_count": null,
   "id": "534b8bc9",
   "metadata": {},
   "outputs": [],
   "source": [
    "15. What is the syntax for matching both numbers and \n",
    "    lowercase letters with a character class?"
   ]
  },
  {
   "cell_type": "code",
   "execution_count": null,
   "id": "b407cf7c",
   "metadata": {},
   "outputs": [],
   "source": [
    "16. What is the procedure for making a normal expression \n",
    "in regax case insensitive?\n",
    "\n"
   ]
  },
  {
   "cell_type": "code",
   "execution_count": null,
   "id": "52a078ab",
   "metadata": {},
   "outputs": [],
   "source": []
  },
  {
   "cell_type": "code",
   "execution_count": null,
   "id": "511f6a9a",
   "metadata": {},
   "outputs": [],
   "source": []
  },
  {
   "cell_type": "code",
   "execution_count": null,
   "id": "9331aeb1",
   "metadata": {},
   "outputs": [],
   "source": []
  },
  {
   "cell_type": "code",
   "execution_count": null,
   "id": "a410d2c8",
   "metadata": {},
   "outputs": [],
   "source": []
  }
 ],
 "metadata": {
  "kernelspec": {
   "display_name": "Python 3 (ipykernel)",
   "language": "python",
   "name": "python3"
  },
  "language_info": {
   "codemirror_mode": {
    "name": "ipython",
    "version": 3
   },
   "file_extension": ".py",
   "mimetype": "text/x-python",
   "name": "python",
   "nbconvert_exporter": "python",
   "pygments_lexer": "ipython3",
   "version": "3.9.12"
  }
 },
 "nbformat": 4,
 "nbformat_minor": 5
}
