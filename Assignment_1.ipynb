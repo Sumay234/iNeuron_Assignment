{
  "nbformat": 4,
  "nbformat_minor": 0,
  "metadata": {
    "colab": {
      "provenance": []
    },
    "kernelspec": {
      "name": "python3",
      "display_name": "Python 3"
    },
    "language_info": {
      "name": "python"
    }
  },
  "cells": [
    {
      "cell_type": "markdown",
      "source": [
        "1. In the below elements which of them are values or an expression? eg:- values can be\n",
        "integer or string and expressions will be mathematical operators.\n",
        "\n",
        "\n",
        "\n",
        "\n",
        "\n",
        "\n",
        "   *        =  expressions    \n",
        "   \"hello\"  =  Values     \n",
        "  -87.8    =  Values      \n",
        "   -        =  expression     \n",
        "   /        =  expression    \n",
        "   +        =  expression    \n",
        "   6        =  values    \n",
        "\n",
        "\n",
        "\n"
      ],
      "metadata": {
        "id": "BzNANXSMquq3"
      }
    },
    {
      "cell_type": "markdown",
      "source": [
        "2. What is the difference between string and variable?\n",
        "\n",
        "ans.           \n",
        "       String:- it is sentence/text/character which is used to stored.           \n",
        "              For Ex= \"Hello World\",\"Enter your Name\" as well as \"45+65\".  \n",
        "                                                                                        \n",
        "       Variable:- it is used to denote objects by that names.\n",
        "                 For ex = a=30,b=70,name=\"enter ur name\".\n",
        "                 here (a,b,name) are the variable.\n"
      ],
      "metadata": {
        "id": "t6LQnyytq5ED"
      }
    },
    {
      "cell_type": "markdown",
      "source": [
        "3. Describe three different data types.\n",
        "\n",
        "ans.   the three data-types are-\n",
        "     \n",
        "     1) Numeric Data-types= it represent the data which has numeric value.\n",
        "                            for ex= integers,floating,complex number.\n",
        "                            \n",
        "     2) Dictionary Data-types= it is an unordered collection of data value,used \n",
        "                               to stored data like a map,which unlike other   data types that hold only single values as an   elements.\n",
        "                               \n",
        "     3) Sequence Data-Type=  it is an ordered collection of similar or       \n",
        "                             different data types.\n",
        "                             for ex- String,List,Tuples.\n",
        "                             "
      ],
      "metadata": {
        "id": "2dHoeUNyq5Q7"
      }
    },
    {
      "cell_type": "markdown",
      "source": [
        "4. What is an expression made up of? What do all expressions do?\n",
        "\n",
        "ans. Expression is made up of mathematicals symbol such as (/,*,-,+,=) and it use      to do mathematical claculation."
      ],
      "metadata": {
        "id": "Y2ilgEQXq5gb"
      }
    },
    {
      "cell_type": "markdown",
      "source": [
        "5. This assignment statements, like spam = 10. What is the difference between      an expression and a statement?\n",
        "\n",
        "ans. (didn't understand the question but still trying in the next line).\n",
        "     \"This assignment statements, like spam\" :- is a statement\n",
        "                            =                :- is a expression"
      ],
      "metadata": {
        "id": "TP_IUHNCrWq5"
      }
    },
    {
      "cell_type": "markdown",
      "source": [
        "6. After running the following code, what does the variable bacon contain?\n",
        "   bacon = 22\n",
        "   bacon + 1\n",
        "   \n",
        "ans. 23"
      ],
      "metadata": {
        "id": "9gi75O4XrWtQ"
      }
    },
    {
      "cell_type": "code",
      "source": [
        "# \" Code of Question no. 6\"\n",
        "\n",
        "bacon = 22\n",
        "bacon + 1"
      ],
      "metadata": {
        "colab": {
          "base_uri": "https://localhost:8080/"
        },
        "id": "s4pd5GAJtYYU",
        "outputId": "6e7d1052-3cf3-438d-bbbc-878f1aabc41d"
      },
      "execution_count": 2,
      "outputs": [
        {
          "output_type": "execute_result",
          "data": {
            "text/plain": [
              "23"
            ]
          },
          "metadata": {},
          "execution_count": 2
        }
      ]
    },
    {
      "cell_type": "markdown",
      "source": [
        " 7. What should the values of the following two terms be?  \n",
        "    \"spam\" + \"spamspam\"   \n",
        "    \"spam\" * 3\n",
        "   \n",
        "ans.  \n",
        "       \"spam\" + \"spamspam\" = 'spamspamspam'   \n",
        "        \"spam\" * 3          =  'spamspamspam'\n",
        "   "
      ],
      "metadata": {
        "id": "ByEk63QorWzk"
      }
    },
    {
      "cell_type": "code",
      "source": [
        "# \" Code of question no. 7\"\n",
        "\n",
        "print(\"spam\" + \"spamspam\")\n",
        "print(\"spam\" * 3)"
      ],
      "metadata": {
        "colab": {
          "base_uri": "https://localhost:8080/"
        },
        "id": "3oIkXQ-tt7iQ",
        "outputId": "52327163-6f6f-4269-c800-806544d1dbe1"
      },
      "execution_count": 3,
      "outputs": [
        {
          "output_type": "stream",
          "name": "stdout",
          "text": [
            "spamspamspam\n",
            "spamspamspam\n"
          ]
        }
      ]
    },
    {
      "cell_type": "markdown",
      "source": [
        "8. Why is eggs a valid variable name while 100 is invalid?    \n",
        "\n",
        "ans.    because 100 will be considered as a numeric value instead of variable."
      ],
      "metadata": {
        "id": "7h3ZC5FfrW37"
      }
    },
    {
      "cell_type": "markdown",
      "source": [
        "9. What three functions can be used to get the integer, floating-point number,    or string version of a value?\n",
        "\n",
        "ans. (i am not getting the ans because not able to understand the question.)"
      ],
      "metadata": {
        "id": "hrTn-L8ArW5v"
      }
    },
    {
      "cell_type": "markdown",
      "source": [
        "10. Why does this expression cause an error? How can you fix it?\n",
        "    'I have eaten'  + 99 + 'burritos.'\n",
        "    \n",
        "ans.  simply by making 99 as string.\n",
        "      'I have eaten'  + \" 99 \" + 'burritos.'\n",
        "    \n",
        "    "
      ],
      "metadata": {
        "id": "HDex04ZbrW7r"
      }
    },
    {
      "cell_type": "code",
      "source": [
        "# \" Code of Question no. 10\"\n",
        "\n",
        "'I have eaten'  + \" 99 \" + 'burritos.'"
      ],
      "metadata": {
        "colab": {
          "base_uri": "https://localhost:8080/",
          "height": 36
        },
        "id": "nUMbhEApr0s8",
        "outputId": "98d63840-0bc4-4ebd-d59e-79209ce9865b"
      },
      "execution_count": 4,
      "outputs": [
        {
          "output_type": "execute_result",
          "data": {
            "text/plain": [
              "'I have eaten 99 burritos.'"
            ],
            "application/vnd.google.colaboratory.intrinsic+json": {
              "type": "string"
            }
          },
          "metadata": {},
          "execution_count": 4
        }
      ]
    },
    {
      "cell_type": "code",
      "source": [],
      "metadata": {
        "id": "fk8XLdgMuFI4"
      },
      "execution_count": null,
      "outputs": []
    }
  ]
}